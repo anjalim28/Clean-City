{
 "cells": [
  {
   "cell_type": "code",
   "execution_count": 1,
   "metadata": {},
   "outputs": [],
   "source": [
    "import numpy as np\n",
    "import pandas as pd\n",
    "import matplotlib.pyplot as plt\n",
    "import seaborn as sns\n"
   ]
  },
  {
   "cell_type": "code",
   "execution_count": 2,
   "metadata": {},
   "outputs": [
    {
     "data": {
      "text/html": [
       "<div>\n",
       "<style scoped>\n",
       "    .dataframe tbody tr th:only-of-type {\n",
       "        vertical-align: middle;\n",
       "    }\n",
       "\n",
       "    .dataframe tbody tr th {\n",
       "        vertical-align: top;\n",
       "    }\n",
       "\n",
       "    .dataframe thead th {\n",
       "        text-align: right;\n",
       "    }\n",
       "</style>\n",
       "<table border=\"1\" class=\"dataframe\">\n",
       "  <thead>\n",
       "    <tr style=\"text-align: right;\">\n",
       "      <th></th>\n",
       "      <th>NA</th>\n",
       "      <th>na</th>\n",
       "      <th>NA.1</th>\n",
       "      <th>NA.2</th>\n",
       "      <th>Total quantum of MSW generated in the city (in Metric tonnes)</th>\n",
       "      <th>Total quantum of MSW generated in the city (in Metric tonnes).1</th>\n",
       "      <th>Total quantum of MSW generated in the city (in Metric tonnes).2</th>\n",
       "      <th>Total quantum of MSW collected by the ULB or private operator \\n(in Metric tonnes)</th>\n",
       "      <th>Total quantum of MSW collected by the ULB or private operator \\n(in Metric tonnes).1</th>\n",
       "      <th>Total quantum of MSW collected by the ULB or private operator \\n(in Metric tonnes).2</th>\n",
       "      <th>Average quantum of MSW that is processed or recycled \\n(in Metric tonnes)</th>\n",
       "      <th>Average quantum of MSW that is processed or recycled \\n(in Metric tonnes).1</th>\n",
       "      <th>Average quantum of MSW that is processed or recycled \\n(in Metric tonnes).2</th>\n",
       "    </tr>\n",
       "  </thead>\n",
       "  <tbody>\n",
       "    <tr>\n",
       "      <th>0</th>\n",
       "      <td>City Name</td>\n",
       "      <td>Zone Name</td>\n",
       "      <td>Ward Name</td>\n",
       "      <td>Ward No.</td>\n",
       "      <td>2015-16</td>\n",
       "      <td>2016-17</td>\n",
       "      <td>2017-18</td>\n",
       "      <td>2015-16</td>\n",
       "      <td>2016-17</td>\n",
       "      <td>2017-18</td>\n",
       "      <td>2015-16</td>\n",
       "      <td>2016-17</td>\n",
       "      <td>2017-18</td>\n",
       "    </tr>\n",
       "    <tr>\n",
       "      <th>1</th>\n",
       "      <td>Indore</td>\n",
       "      <td>Aerodrum Road</td>\n",
       "      <td>Sirpur</td>\n",
       "      <td>1</td>\n",
       "      <td>13.92</td>\n",
       "      <td>15.02</td>\n",
       "      <td>15.2204</td>\n",
       "      <td>13.92</td>\n",
       "      <td>15.02</td>\n",
       "      <td>15.2204</td>\n",
       "      <td>13.92</td>\n",
       "      <td>15.02</td>\n",
       "      <td>15.2204</td>\n",
       "    </tr>\n",
       "    <tr>\n",
       "      <th>2</th>\n",
       "      <td>Indore</td>\n",
       "      <td>Dravid Nagar</td>\n",
       "      <td>Chandan Nagar</td>\n",
       "      <td>2</td>\n",
       "      <td>13.45</td>\n",
       "      <td>14.51</td>\n",
       "      <td>14.7056</td>\n",
       "      <td>13.45</td>\n",
       "      <td>14.51</td>\n",
       "      <td>14.7056</td>\n",
       "      <td>13.45</td>\n",
       "      <td>14.51</td>\n",
       "      <td>14.7056</td>\n",
       "    </tr>\n",
       "    <tr>\n",
       "      <th>3</th>\n",
       "      <td>Indore</td>\n",
       "      <td>Aerodrum Road</td>\n",
       "      <td>Kalani Nagar</td>\n",
       "      <td>3</td>\n",
       "      <td>13.64</td>\n",
       "      <td>14.72</td>\n",
       "      <td>14.91256</td>\n",
       "      <td>13.64</td>\n",
       "      <td>14.72</td>\n",
       "      <td>14.91256</td>\n",
       "      <td>13.64</td>\n",
       "      <td>14.72</td>\n",
       "      <td>14.91256</td>\n",
       "    </tr>\n",
       "    <tr>\n",
       "      <th>4</th>\n",
       "      <td>Indore</td>\n",
       "      <td>Kila Maidan</td>\n",
       "      <td>Sukhdev Nagar</td>\n",
       "      <td>4</td>\n",
       "      <td>12.35</td>\n",
       "      <td>13.32</td>\n",
       "      <td>13.49816</td>\n",
       "      <td>12.35</td>\n",
       "      <td>13.32</td>\n",
       "      <td>13.49816</td>\n",
       "      <td>12.35</td>\n",
       "      <td>13.32</td>\n",
       "      <td>13.49816</td>\n",
       "    </tr>\n",
       "  </tbody>\n",
       "</table>\n",
       "</div>"
      ],
      "text/plain": [
       "          NA             na           NA.1      NA.2  \\\n",
       "0  City Name      Zone Name      Ward Name  Ward No.   \n",
       "1     Indore  Aerodrum Road        Sirpur          1   \n",
       "2     Indore   Dravid Nagar  Chandan Nagar         2   \n",
       "3     Indore  Aerodrum Road   Kalani Nagar         3   \n",
       "4     Indore    Kila Maidan  Sukhdev Nagar         4   \n",
       "\n",
       "  Total quantum of MSW generated in the city (in Metric tonnes)  \\\n",
       "0                                            2015-16              \n",
       "1                                              13.92              \n",
       "2                                              13.45              \n",
       "3                                              13.64              \n",
       "4                                              12.35              \n",
       "\n",
       "  Total quantum of MSW generated in the city (in Metric tonnes).1  \\\n",
       "0                                            2016-17                \n",
       "1                                              15.02                \n",
       "2                                              14.51                \n",
       "3                                              14.72                \n",
       "4                                              13.32                \n",
       "\n",
       "  Total quantum of MSW generated in the city (in Metric tonnes).2  \\\n",
       "0                                            2017-18                \n",
       "1                                            15.2204                \n",
       "2                                            14.7056                \n",
       "3                                           14.91256                \n",
       "4                                           13.49816                \n",
       "\n",
       "  Total quantum of MSW collected by the ULB or private operator \\n(in Metric tonnes)  \\\n",
       "0                                            2015-16                                   \n",
       "1                                              13.92                                   \n",
       "2                                              13.45                                   \n",
       "3                                              13.64                                   \n",
       "4                                              12.35                                   \n",
       "\n",
       "  Total quantum of MSW collected by the ULB or private operator \\n(in Metric tonnes).1  \\\n",
       "0                                            2016-17                                     \n",
       "1                                              15.02                                     \n",
       "2                                              14.51                                     \n",
       "3                                              14.72                                     \n",
       "4                                              13.32                                     \n",
       "\n",
       "  Total quantum of MSW collected by the ULB or private operator \\n(in Metric tonnes).2  \\\n",
       "0                                            2017-18                                     \n",
       "1                                            15.2204                                     \n",
       "2                                            14.7056                                     \n",
       "3                                           14.91256                                     \n",
       "4                                           13.49816                                     \n",
       "\n",
       "  Average quantum of MSW that is processed or recycled \\n(in Metric tonnes)  \\\n",
       "0                                            2015-16                          \n",
       "1                                              13.92                          \n",
       "2                                              13.45                          \n",
       "3                                              13.64                          \n",
       "4                                              12.35                          \n",
       "\n",
       "  Average quantum of MSW that is processed or recycled \\n(in Metric tonnes).1  \\\n",
       "0                                            2016-17                            \n",
       "1                                              15.02                            \n",
       "2                                              14.51                            \n",
       "3                                              14.72                            \n",
       "4                                              13.32                            \n",
       "\n",
       "  Average quantum of MSW that is processed or recycled \\n(in Metric tonnes).2  \n",
       "0                                            2017-18                           \n",
       "1                                            15.2204                           \n",
       "2                                            14.7056                           \n",
       "3                                           14.91256                           \n",
       "4                                           13.49816                           "
      ]
     },
     "execution_count": 2,
     "metadata": {},
     "output_type": "execute_result"
    }
   ],
   "source": [
    "df = pd.read_csv('D13_Solid_Waste_Management_Efficiency_2_1.csv')\n",
    "df.head()"
   ]
  },
  {
   "cell_type": "code",
   "execution_count": 3,
   "metadata": {},
   "outputs": [
    {
     "data": {
      "text/plain": [
       "(86, 13)"
      ]
     },
     "execution_count": 3,
     "metadata": {},
     "output_type": "execute_result"
    }
   ],
   "source": [
    "#checking number of rows and columns\n",
    "df.shape"
   ]
  },
  {
   "cell_type": "code",
   "execution_count": 4,
   "metadata": {},
   "outputs": [
    {
     "data": {
      "text/plain": [
       "Index(['NA', 'na', 'NA.1', 'NA.2',\n",
       "       'Total quantum of MSW generated in the city (in Metric tonnes)',\n",
       "       'Total quantum of MSW generated in the city (in Metric tonnes).1',\n",
       "       'Total quantum of MSW generated in the city (in Metric tonnes).2',\n",
       "       'Total quantum of MSW collected by the ULB or private operator \\n(in Metric tonnes)',\n",
       "       'Total quantum of MSW collected by the ULB or private operator \\n(in Metric tonnes).1',\n",
       "       'Total quantum of MSW collected by the ULB or private operator \\n(in Metric tonnes).2',\n",
       "       'Average quantum of MSW that is processed or recycled \\n(in Metric tonnes)',\n",
       "       'Average quantum of MSW that is processed or recycled \\n(in Metric tonnes).1',\n",
       "       'Average quantum of MSW that is processed or recycled \\n(in Metric tonnes).2'],\n",
       "      dtype='object')"
      ]
     },
     "execution_count": 4,
     "metadata": {},
     "output_type": "execute_result"
    }
   ],
   "source": [
    "#listing column names\n",
    "df.columns"
   ]
  },
  {
   "cell_type": "code",
   "execution_count": 5,
   "metadata": {},
   "outputs": [
    {
     "name": "stdout",
     "output_type": "stream",
     "text": [
      "<class 'pandas.core.frame.DataFrame'>\n",
      "RangeIndex: 86 entries, 0 to 85\n",
      "Data columns (total 13 columns):\n",
      " #   Column                                                                               Non-Null Count  Dtype \n",
      "---  ------                                                                               --------------  ----- \n",
      " 0   NA                                                                                   86 non-null     object\n",
      " 1   na                                                                                   86 non-null     object\n",
      " 2   NA.1                                                                                 86 non-null     object\n",
      " 3   NA.2                                                                                 86 non-null     object\n",
      " 4   Total quantum of MSW generated in the city (in Metric tonnes)                        86 non-null     object\n",
      " 5   Total quantum of MSW generated in the city (in Metric tonnes).1                      86 non-null     object\n",
      " 6   Total quantum of MSW generated in the city (in Metric tonnes).2                      86 non-null     object\n",
      " 7   Total quantum of MSW collected by the ULB or private operator \n",
      "(in Metric tonnes)    86 non-null     object\n",
      " 8   Total quantum of MSW collected by the ULB or private operator \n",
      "(in Metric tonnes).1  86 non-null     object\n",
      " 9   Total quantum of MSW collected by the ULB or private operator \n",
      "(in Metric tonnes).2  86 non-null     object\n",
      " 10  Average quantum of MSW that is processed or recycled \n",
      "(in Metric tonnes)             86 non-null     object\n",
      " 11  Average quantum of MSW that is processed or recycled \n",
      "(in Metric tonnes).1           86 non-null     object\n",
      " 12  Average quantum of MSW that is processed or recycled \n",
      "(in Metric tonnes).2           86 non-null     object\n",
      "dtypes: object(13)\n",
      "memory usage: 8.9+ KB\n"
     ]
    }
   ],
   "source": [
    "#checking datatype\n",
    "df.info()"
   ]
  },
  {
   "attachments": {},
   "cell_type": "markdown",
   "metadata": {},
   "source": [
    "DATA CLEANING"
   ]
  },
  {
   "cell_type": "code",
   "execution_count": 6,
   "metadata": {},
   "outputs": [
    {
     "data": {
      "text/html": [
       "<div>\n",
       "<style scoped>\n",
       "    .dataframe tbody tr th:only-of-type {\n",
       "        vertical-align: middle;\n",
       "    }\n",
       "\n",
       "    .dataframe tbody tr th {\n",
       "        vertical-align: top;\n",
       "    }\n",
       "\n",
       "    .dataframe thead th {\n",
       "        text-align: right;\n",
       "    }\n",
       "</style>\n",
       "<table border=\"1\" class=\"dataframe\">\n",
       "  <thead>\n",
       "    <tr style=\"text-align: right;\">\n",
       "      <th></th>\n",
       "      <th>NA</th>\n",
       "      <th>na</th>\n",
       "      <th>NA.1</th>\n",
       "      <th>NA.2</th>\n",
       "      <th>Total quantum of MSW generated in the city (in Metric tonnes)</th>\n",
       "      <th>Total quantum of MSW generated in the city (in Metric tonnes).1</th>\n",
       "      <th>Total quantum of MSW generated in the city (in Metric tonnes).2</th>\n",
       "      <th>Total quantum of MSW collected by the ULB or private operator \\n(in Metric tonnes)</th>\n",
       "      <th>Total quantum of MSW collected by the ULB or private operator \\n(in Metric tonnes).1</th>\n",
       "      <th>Total quantum of MSW collected by the ULB or private operator \\n(in Metric tonnes).2</th>\n",
       "      <th>Average quantum of MSW that is processed or recycled \\n(in Metric tonnes)</th>\n",
       "      <th>Average quantum of MSW that is processed or recycled \\n(in Metric tonnes).1</th>\n",
       "      <th>Average quantum of MSW that is processed or recycled \\n(in Metric tonnes).2</th>\n",
       "    </tr>\n",
       "  </thead>\n",
       "  <tbody>\n",
       "  </tbody>\n",
       "</table>\n",
       "</div>"
      ],
      "text/plain": [
       "Empty DataFrame\n",
       "Columns: [NA, na, NA.1, NA.2, Total quantum of MSW generated in the city (in Metric tonnes), Total quantum of MSW generated in the city (in Metric tonnes).1, Total quantum of MSW generated in the city (in Metric tonnes).2, Total quantum of MSW collected by the ULB or private operator \n",
       "(in Metric tonnes), Total quantum of MSW collected by the ULB or private operator \n",
       "(in Metric tonnes).1, Total quantum of MSW collected by the ULB or private operator \n",
       "(in Metric tonnes).2, Average quantum of MSW that is processed or recycled \n",
       "(in Metric tonnes), Average quantum of MSW that is processed or recycled \n",
       "(in Metric tonnes).1, Average quantum of MSW that is processed or recycled \n",
       "(in Metric tonnes).2]\n",
       "Index: []"
      ]
     },
     "execution_count": 6,
     "metadata": {},
     "output_type": "execute_result"
    }
   ],
   "source": [
    "#checking for duplicated values\n",
    "df[df.duplicated()]"
   ]
  },
  {
   "cell_type": "code",
   "execution_count": 8,
   "metadata": {},
   "outputs": [
    {
     "data": {
      "text/plain": [
       "NA                                                                                      0\n",
       "na                                                                                      0\n",
       "NA.1                                                                                    0\n",
       "NA.2                                                                                    0\n",
       "Total quantum of MSW generated in the city (in Metric tonnes)                           0\n",
       "Total quantum of MSW generated in the city (in Metric tonnes).1                         0\n",
       "Total quantum of MSW generated in the city (in Metric tonnes).2                         0\n",
       "Total quantum of MSW collected by the ULB or private operator \\n(in Metric tonnes)      0\n",
       "Total quantum of MSW collected by the ULB or private operator \\n(in Metric tonnes).1    0\n",
       "Total quantum of MSW collected by the ULB or private operator \\n(in Metric tonnes).2    0\n",
       "Average quantum of MSW that is processed or recycled \\n(in Metric tonnes)               0\n",
       "Average quantum of MSW that is processed or recycled \\n(in Metric tonnes).1             0\n",
       "Average quantum of MSW that is processed or recycled \\n(in Metric tonnes).2             0\n",
       "dtype: int64"
      ]
     },
     "execution_count": 8,
     "metadata": {},
     "output_type": "execute_result"
    }
   ],
   "source": [
    "df.isnull().sum()"
   ]
  }
 ],
 "metadata": {
  "kernelspec": {
   "display_name": "Python 3",
   "language": "python",
   "name": "python3"
  },
  "language_info": {
   "codemirror_mode": {
    "name": "ipython",
    "version": 3
   },
   "file_extension": ".py",
   "mimetype": "text/x-python",
   "name": "python",
   "nbconvert_exporter": "python",
   "pygments_lexer": "ipython3",
   "version": "3.10.3"
  },
  "orig_nbformat": 4,
  "vscode": {
   "interpreter": {
    "hash": "a4a32208fe57bd9bd2e8cf471b55207ccd1db41e4a4526642b234c85a6d3d80c"
   }
  }
 },
 "nbformat": 4,
 "nbformat_minor": 2
}
